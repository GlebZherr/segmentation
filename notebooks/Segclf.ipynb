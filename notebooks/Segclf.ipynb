{
 "cells": [
  {
   "cell_type": "code",
   "execution_count": 1,
   "metadata": {},
   "outputs": [],
   "source": [
    "%matplotlib inline\n",
    "import matplotlib.pylab as plt\n",
    "plt.style.use(['bmh'])\n",
    "import seaborn as sns\n",
    "\n",
    "import warnings\n",
    "warnings.filterwarnings(\"ignore\")\n",
    "\n",
    "import pandas as pd\n",
    "import numpy as np\n",
    "from pprint import pprint\n",
    "import re\n",
    "from collections import Counter\n",
    "from tqdm.notebook import tqdm\n",
    "from sklearn.feature_extraction.text import CountVectorizer\n",
    "from sklearn.model_selection import train_test_split\n",
    "import joblib\n",
    "import shap\n",
    "from sklearn.metrics import *"
   ]
  },
  {
   "cell_type": "markdown",
   "metadata": {},
   "source": [
    "### Load data"
   ]
  },
  {
   "cell_type": "code",
   "execution_count": 2,
   "metadata": {},
   "outputs": [
    {
     "name": "stdout",
     "output_type": "stream",
     "text": [
      "(258446, 116)\n",
      "(258446, 113)\n"
     ]
    }
   ],
   "source": [
    "data_file = '../data/features.json.gzip'\n",
    "data = pd.read_json(data_file, lines=True, compression='gzip')\n",
    "data = data.set_index('id')\n",
    "print(data.shape)\n",
    "data = data.drop(['text','url', 'order','domain'], 1, errors='ignore')\n",
    "print(data.shape)"
   ]
  },
  {
   "cell_type": "code",
   "execution_count": 3,
   "metadata": {},
   "outputs": [],
   "source": [
    "categorical_cols = ['self_tag', 'parent_tag', 'grand_parent_tag', 'right_tag', 'left_tag']\n",
    "\n",
    "text_cols = ['self_class', 'parent_class', 'grand_parent_class', 'right_class', 'left_class',\n",
    "             'grand_parent_id', 'left_id', 'parent_id', 'right_id', 'self_id', \n",
    "             'grand_parent_itemprop', 'left_itemprop', 'parent_itemprop', 'right_itemprop', \n",
    "             'self_itemprop']"
   ]
  },
  {
   "cell_type": "code",
   "execution_count": 4,
   "metadata": {},
   "outputs": [],
   "source": [
    "data[categorical_cols] = data[categorical_cols].fillna('NA')\n",
    "data[text_cols] = data[text_cols].fillna('')\n",
    "data['label'] = data['label'].fillna('none')"
   ]
  },
  {
   "cell_type": "code",
   "execution_count": 5,
   "metadata": {},
   "outputs": [
    {
     "name": "stdout",
     "output_type": "stream",
     "text": [
      "(258446, 112)\n"
     ]
    }
   ],
   "source": [
    "X_train = data.drop('label', 1)\n",
    "y_train = data.label\n",
    "print(X_train.shape)"
   ]
  },
  {
   "cell_type": "code",
   "execution_count": 6,
   "metadata": {},
   "outputs": [],
   "source": [
    "from catboost import CatBoost, CatBoostClassifier, Pool"
   ]
  },
  {
   "cell_type": "code",
   "execution_count": 7,
   "metadata": {},
   "outputs": [],
   "source": [
    "train_pool = Pool(X_train, y_train, \n",
    "                  cat_features=categorical_cols, \n",
    "                  text_features=text_cols)"
   ]
  },
  {
   "cell_type": "code",
   "execution_count": 8,
   "metadata": {},
   "outputs": [],
   "source": [
    "import json\n",
    "with open('../data/cb_parameters.json') as j:\n",
    "    param = json.loads(j.read())"
   ]
  },
  {
   "cell_type": "code",
   "execution_count": 9,
   "metadata": {},
   "outputs": [
    {
     "data": {
      "text/plain": [
       "{'auto_class_weights': 'SqrtBalanced',\n",
       " 'bagging_temperature': 0.5,\n",
       " 'border_count': 254,\n",
       " 'class_names': ['none', 'content', 'header', 'date', 'summary', 'subheader'],\n",
       " 'custom_metric': ['F1', 'Accuracy', 'TotalF1'],\n",
       " 'depth': 9,\n",
       " 'dictionaries': [{'dictionary_id': 'Word',\n",
       "   'gram_count': '1',\n",
       "   'max_dictionary_size': '50000',\n",
       "   'occurence_lower_bound': 5},\n",
       "  {'dictionary_id': 'BiGram',\n",
       "   'gram_count': '2',\n",
       "   'max_dictionary_size': '50000',\n",
       "   'occurence_lower_bound': 5}],\n",
       " 'early_stopping_rounds': 250,\n",
       " 'eval_metric': 'TotalF1:use_weights=true;average=Macro',\n",
       " 'has_time': True,\n",
       " 'l2_leaf_reg': 0.1,\n",
       " 'learning_rate': 0.3,\n",
       " 'min_data_in_leaf': 6,\n",
       " 'n_estimators': 3000,\n",
       " 'objective': 'MultiClassOneVsAll',\n",
       " 'random_strength': 2.0,\n",
       " 'task_type': 'GPU'}"
      ]
     },
     "execution_count": 9,
     "metadata": {},
     "output_type": "execute_result"
    }
   ],
   "source": [
    "param"
   ]
  },
  {
   "cell_type": "code",
   "execution_count": 10,
   "metadata": {},
   "outputs": [
    {
     "data": {
      "text/plain": [
       "array([ 0.03574871,  0.65983967,  5.33098185,  5.34421009, 16.22385436,\n",
       "       13.31509531])"
      ]
     },
     "execution_count": 10,
     "metadata": {},
     "output_type": "execute_result"
    }
   ],
   "source": [
    "from sklearn.utils.class_weight import compute_class_weight, compute_sample_weight\n",
    "\n",
    "class_weight = compute_class_weight(classes=param['class_names'], y=y_train, class_weight='balanced') / 5\n",
    "class_weight"
   ]
  },
  {
   "cell_type": "code",
   "execution_count": 11,
   "metadata": {},
   "outputs": [],
   "source": [
    "param['n_estimators'] = 1000\n",
    "param['early_stopping_rounds'] = None\n",
    "param['auto_class_weights'] = 'SqrtBalanced'\n",
    "# param['class_weights'] = class_weight\n",
    "param['objective'] = 'MultiClassOneVsAll'"
   ]
  },
  {
   "cell_type": "code",
   "execution_count": 12,
   "metadata": {},
   "outputs": [
    {
     "name": "stdout",
     "output_type": "stream",
     "text": [
      "0:\tlearn: 0.5324296\ttotal: 217ms\tremaining: 3m 36s\n",
      "100:\tlearn: 0.9941927\ttotal: 17.7s\tremaining: 2m 37s\n",
      "200:\tlearn: 0.9982018\ttotal: 33.2s\tremaining: 2m 11s\n",
      "300:\tlearn: 0.9992539\ttotal: 48s\tremaining: 1m 51s\n",
      "400:\tlearn: 0.9996054\ttotal: 1m 2s\tremaining: 1m 32s\n",
      "500:\tlearn: 0.9997960\ttotal: 1m 16s\tremaining: 1m 16s\n",
      "600:\tlearn: 0.9999098\ttotal: 1m 31s\tremaining: 1m\n",
      "700:\tlearn: 0.9999399\ttotal: 1m 45s\tremaining: 45s\n",
      "800:\tlearn: 0.9999749\ttotal: 2m\tremaining: 29.8s\n",
      "900:\tlearn: 0.9999909\ttotal: 2m 14s\tremaining: 14.8s\n",
      "999:\tlearn: 0.9999954\ttotal: 2m 28s\tremaining: 0us\n"
     ]
    }
   ],
   "source": [
    "model = CatBoostClassifier(**param)\n",
    "model.fit(train_pool, verbose=100);"
   ]
  },
  {
   "cell_type": "code",
   "execution_count": 13,
   "metadata": {},
   "outputs": [],
   "source": [
    "model.save_model('../data/model_weights_sqrt.cbm', format='cbm')"
   ]
  },
  {
   "cell_type": "code",
   "execution_count": null,
   "metadata": {},
   "outputs": [],
   "source": []
  }
 ],
 "metadata": {
  "kernelspec": {
   "display_name": "Python 3",
   "language": "python",
   "name": "python3"
  },
  "language_info": {
   "codemirror_mode": {
    "name": "ipython",
    "version": 3
   },
   "file_extension": ".py",
   "mimetype": "text/x-python",
   "name": "python",
   "nbconvert_exporter": "python",
   "pygments_lexer": "ipython3",
   "version": "3.8.10"
  }
 },
 "nbformat": 4,
 "nbformat_minor": 4
}
